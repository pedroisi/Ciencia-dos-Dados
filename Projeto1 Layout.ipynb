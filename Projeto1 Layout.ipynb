{
 "cells": [
  {
   "cell_type": "markdown",
   "metadata": {},
   "source": [
    "___\n",
    "# Ciência dos Dados - PROJETO 1"
   ]
  },
  {
   "cell_type": "markdown",
   "metadata": {},
   "source": [
    "### Pedro Isidoro Maciel\n",
    "___"
   ]
  },
  {
   "cell_type": "markdown",
   "metadata": {},
   "source": [
    "# Internet Para Todos?"
   ]
  },
  {
   "cell_type": "markdown",
   "metadata": {},
   "source": [
    "___\n",
    "## Introdução\n",
    "\n",
    "   Atualmente a internet se encontra em um patamar de alta importância para uma formação ideal de um cidadão, devido às suas qualidades que permitem de modo geral facilitar o aprendizado e um entendimento de mundo que resultam em uma maior esclarecimento de toda a população. Baseando-se nisso, este trabalho, ao tomar como base as PNAD's dos anos de 2013 e 2015, pretende realizar um estudo sobre como se dá a utilização da internet nas regiões Norte (menos desenvolvida do país) e Sudeste (mais desenvolvida do país), considerando apenas a população de baixa renda. Além disso, vale verificar se este acesso se dá ainda principalmente por meio de computadores, ou se o celular já os ultrapassou."
   ]
  },
  {
   "cell_type": "markdown",
   "metadata": {},
   "source": [
    "___\n",
    "## Análise e Resultados"
   ]
  },
  {
   "cell_type": "code",
   "execution_count": 128,
   "metadata": {
    "collapsed": true
   },
   "outputs": [],
   "source": [
    "%matplotlib inline\n",
    "import pandas as pd\n",
    "import matplotlib.pyplot as plt\n",
    "import numpy as np\n",
    "import os"
   ]
  },
  {
   "cell_type": "code",
   "execution_count": 129,
   "metadata": {
    "collapsed": false
   },
   "outputs": [
    {
     "name": "stdout",
     "output_type": "stream",
     "text": [
      "Esperamos trabalhar no diretório\n",
      "C:\\Users\\pedro\\Documents\\2 SEMESTRE\\Ciencia dos Dados\\Projeto 1\n"
     ]
    }
   ],
   "source": [
    "print('Esperamos trabalhar no diretório')\n",
    "print(os.getcwd())\n"
   ]
  },
  {
   "cell_type": "code",
   "execution_count": 130,
   "metadata": {
    "collapsed": true
   },
   "outputs": [],
   "source": [
    "#Se usar o arquivo descompactado\n",
    "#pd.read_csv('DOM2015.csv',sep=',')\n",
    "\n",
    "#Se usar o arquivo compactado como está no dropbox púbico\n",
    "#pd.read_csv('DOM2015csv.zip', compression='zip', header=0, sep=',', quotechar='\"')"
   ]
  },
  {
   "cell_type": "code",
   "execution_count": 131,
   "metadata": {
    "collapsed": false,
    "scrolled": true
   },
   "outputs": [],
   "source": [
    "dados = pd.read_csv('DOM2015.csv',sep=',')\n",
    "ano = pd.read_csv('DOM2013.csv',sep=',')"
   ]
  },
  {
   "cell_type": "code",
   "execution_count": 132,
   "metadata": {
    "collapsed": false
   },
   "outputs": [],
   "source": [
    "# REGIAO \n",
    "dados.loc[(dados.UF>30)&(dados.UF<36), 'REGIAO'] = 'Sudeste'\n",
    "dados.loc[(dados.UF>35)&(dados.UF<44), 'REGIAO'] = 'Sul'\n",
    "dados.loc[(dados.UF>43)&(dados.UF<54), 'REGIAO'] = 'Centro-Oeste'\n",
    "dados.loc[(dados.UF>10)&(dados.UF<23), 'REGIAO'] = 'Norte'\n",
    "dados.loc[(dados.UF>22)&(dados.UF<31), 'REGIAO'] = 'Nordeste'                              \n",
    "\n",
    "\n",
    "#RENDIMENTO MENSAL DOMCILIAR PER CAPITA (R$)\n",
    "dados.loc[(dados.V4622>-1)&(dados.V4622<3), 'Faixa_Salarial'] = 'Até 1/2 Salário'\n",
    "\n",
    "\n",
    "# TEM INTERNET NO DOMICILIO ?\n",
    "dados.V02322 = dados.V02322.astype('category')\n",
    "\n",
    "dados.loc[(dados.V02322 == 2), 'INTERNET_NO_DOMICILIO'] = 'Sim'\n",
    "dados.loc[(dados.V02322 == 4), 'INTERNET_NO_DOMICILIO'] = 'Não'\n",
    "\n",
    "\n",
    "# ACESSA PELO Telefone Celular\n",
    "dados.V02324 = dados.V02324.astype('category')\n",
    "dados.V02324.cat.categories = ('Sim', 'Não')\n",
    "\n",
    "dados.loc[(dados.V02324 == 2), 'PELO_CELULAR'] = 'Sim'\n",
    "dados.loc[(dados.V02324 == 4), 'PELO_CELULAR'] = 'Não'\n",
    "\n",
    "\n",
    "#ACESSA PELO COMPUTADOR\n",
    "dados.V0232 = dados.V0232.astype('category')\n",
    "dados.V0232.cat.categories = ('Sim', 'Não')\n",
    "\n",
    "dados.loc[(dados.V0232 == 2), 'PELO_PC'] = 'Sim'\n",
    "dados.loc[(dados.V0232 == 4), 'PELO_PC'] = 'Não'\n",
    "\n",
    "\n",
    "#dados=dados.dropna(subset = [\"variavel\"])\n"
   ]
  },
  {
   "cell_type": "markdown",
   "metadata": {},
   "source": [
    "# Começamos analisando a região Sudeste, a partir de uma população de baixíssima renda (até 1/2 salário mínimo)."
   ]
  },
  {
   "cell_type": "code",
   "execution_count": 133,
   "metadata": {
    "collapsed": false
   },
   "outputs": [
    {
     "name": "stdout",
     "output_type": "stream",
     "text": [
      "SUDESTE\n",
      "ANALISANDO A POPULAÇAÕ COM UMA RENDA DOMICILIAR DE ATÉ 1 SALÁRIO MÍNIMO\n"
     ]
    },
    {
     "data": {
      "text/html": [
       "<div>\n",
       "<table border=\"1\" class=\"dataframe\">\n",
       "  <thead>\n",
       "    <tr style=\"text-align: right;\">\n",
       "      <th></th>\n",
       "      <th>REGIAO</th>\n",
       "      <th>INTERNET_NO_DOMICILIO</th>\n",
       "      <th>Faixa_Salarial</th>\n",
       "    </tr>\n",
       "  </thead>\n",
       "  <tbody>\n",
       "    <tr>\n",
       "      <th>64884</th>\n",
       "      <td>Sudeste</td>\n",
       "      <td>Sim</td>\n",
       "      <td>Até 1/2 Salário</td>\n",
       "    </tr>\n",
       "    <tr>\n",
       "      <th>64889</th>\n",
       "      <td>Sudeste</td>\n",
       "      <td>Sim</td>\n",
       "      <td>Até 1/2 Salário</td>\n",
       "    </tr>\n",
       "    <tr>\n",
       "      <th>64902</th>\n",
       "      <td>Sudeste</td>\n",
       "      <td>Sim</td>\n",
       "      <td>Até 1/2 Salário</td>\n",
       "    </tr>\n",
       "    <tr>\n",
       "      <th>64904</th>\n",
       "      <td>Sudeste</td>\n",
       "      <td>Não</td>\n",
       "      <td>Até 1/2 Salário</td>\n",
       "    </tr>\n",
       "    <tr>\n",
       "      <th>64915</th>\n",
       "      <td>Sudeste</td>\n",
       "      <td>Não</td>\n",
       "      <td>Até 1/2 Salário</td>\n",
       "    </tr>\n",
       "  </tbody>\n",
       "</table>\n",
       "</div>"
      ],
      "text/plain": [
       "        REGIAO INTERNET_NO_DOMICILIO   Faixa_Salarial\n",
       "64884  Sudeste                   Sim  Até 1/2 Salário\n",
       "64889  Sudeste                   Sim  Até 1/2 Salário\n",
       "64902  Sudeste                   Sim  Até 1/2 Salário\n",
       "64904  Sudeste                   Não  Até 1/2 Salário\n",
       "64915  Sudeste                   Não  Até 1/2 Salário"
      ]
     },
     "execution_count": 133,
     "metadata": {},
     "output_type": "execute_result"
    }
   ],
   "source": [
    "print(\"SUDESTE\")\n",
    "print(\"ANALISANDO A POPULAÇAÕ COM UMA RENDA DOMICILIAR DE ATÉ 1 SALÁRIO MÍNIMO\")\n",
    "\n",
    "baixarenda_SUDESTE = dados[  (dados.Faixa_Salarial== 'Até 1/2 Salário') & (dados.REGIAO =='Sudeste')].loc[:,[ 'REGIAO', 'INTERNET_NO_DOMICILIO', 'Faixa_Salarial' ]]\n",
    "baixarenda_SUDESTE.head()"
   ]
  },
  {
   "cell_type": "code",
   "execution_count": 134,
   "metadata": {
    "collapsed": false
   },
   "outputs": [
    {
     "name": "stdout",
     "output_type": "stream",
     "text": [
      "SUDESTE - QUANTOS POSSUEM ACESSO A INTERNET EM CASA\n"
     ]
    },
    {
     "data": {
      "text/plain": [
       "Não    50.4\n",
       "Sim    49.6\n",
       "Name: INTERNET_NO_DOMICILIO, dtype: float64"
      ]
     },
     "execution_count": 134,
     "metadata": {},
     "output_type": "execute_result"
    }
   ],
   "source": [
    "print(\"SUDESTE - QUANTOS POSSUEM ACESSO A INTERNET EM CASA\")\n",
    "ut1 = (baixarenda_SUDESTE.INTERNET_NO_DOMICILIO.value_counts(sort=False, normalize=True)*100).round(decimals=1)\n",
    "ut1\n"
   ]
  },
  {
   "cell_type": "markdown",
   "metadata": {},
   "source": [
    "# Verificando a forma do acesso. Ou seja, de todos que possuem acesso à internet, quantos porcento acessam pelo computador e quantos % acessam pelo celular.\n",
    "\n",
    "( Já peço desculpas por não conseguir nomear as variaveis V0232 e V02324, mas acontece um erro que eu não consigo identificar de maneira alguma, considerando que o código é o mesmo utilizado para renomear outras variaveis)"
   ]
  },
  {
   "cell_type": "code",
   "execution_count": 135,
   "metadata": {
    "collapsed": false
   },
   "outputs": [
    {
     "data": {
      "text/html": [
       "<div>\n",
       "<table border=\"1\" class=\"dataframe\">\n",
       "  <thead>\n",
       "    <tr style=\"text-align: right;\">\n",
       "      <th></th>\n",
       "      <th>REGIAO</th>\n",
       "      <th>INTERNET_NO_DOMICILIO</th>\n",
       "      <th>V0232</th>\n",
       "      <th>V02324</th>\n",
       "    </tr>\n",
       "  </thead>\n",
       "  <tbody>\n",
       "    <tr>\n",
       "      <th>64884</th>\n",
       "      <td>Sudeste</td>\n",
       "      <td>Sim</td>\n",
       "      <td>Sim</td>\n",
       "      <td>Sim</td>\n",
       "    </tr>\n",
       "    <tr>\n",
       "      <th>64889</th>\n",
       "      <td>Sudeste</td>\n",
       "      <td>Sim</td>\n",
       "      <td>Sim</td>\n",
       "      <td>Sim</td>\n",
       "    </tr>\n",
       "    <tr>\n",
       "      <th>64902</th>\n",
       "      <td>Sudeste</td>\n",
       "      <td>Sim</td>\n",
       "      <td>Sim</td>\n",
       "      <td>Sim</td>\n",
       "    </tr>\n",
       "    <tr>\n",
       "      <th>64977</th>\n",
       "      <td>Sudeste</td>\n",
       "      <td>Sim</td>\n",
       "      <td>NaN</td>\n",
       "      <td>Sim</td>\n",
       "    </tr>\n",
       "    <tr>\n",
       "      <th>64985</th>\n",
       "      <td>Sudeste</td>\n",
       "      <td>Sim</td>\n",
       "      <td>Sim</td>\n",
       "      <td>Sim</td>\n",
       "    </tr>\n",
       "  </tbody>\n",
       "</table>\n",
       "</div>"
      ],
      "text/plain": [
       "        REGIAO INTERNET_NO_DOMICILIO V0232 V02324\n",
       "64884  Sudeste                   Sim   Sim    Sim\n",
       "64889  Sudeste                   Sim   Sim    Sim\n",
       "64902  Sudeste                   Sim   Sim    Sim\n",
       "64977  Sudeste                   Sim   NaN    Sim\n",
       "64985  Sudeste                   Sim   Sim    Sim"
      ]
     },
     "execution_count": 135,
     "metadata": {},
     "output_type": "execute_result"
    }
   ],
   "source": [
    "forma_SUDESTE = dados[  (dados.Faixa_Salarial== 'Até 1/2 Salário') & (dados.REGIAO =='Sudeste') & (dados.INTERNET_NO_DOMICILIO =='Sim')].loc[:,['REGIAO','INTERNET_NO_DOMICILIO', 'V0232', 'V02324']]\n",
    "forma_SUDESTE.head()"
   ]
  },
  {
   "cell_type": "markdown",
   "metadata": {},
   "source": [
    "# O mesmo para a região Norte..."
   ]
  },
  {
   "cell_type": "code",
   "execution_count": 136,
   "metadata": {
    "collapsed": false
   },
   "outputs": [
    {
     "data": {
      "text/html": [
       "<div>\n",
       "<table border=\"1\" class=\"dataframe\">\n",
       "  <thead>\n",
       "    <tr style=\"text-align: right;\">\n",
       "      <th></th>\n",
       "      <th>REGIAO</th>\n",
       "      <th>INTERNET_NO_DOMICILIO</th>\n",
       "      <th>Faixa_Salarial</th>\n",
       "    </tr>\n",
       "  </thead>\n",
       "  <tbody>\n",
       "    <tr>\n",
       "      <th>6</th>\n",
       "      <td>Norte</td>\n",
       "      <td>Não</td>\n",
       "      <td>Até 1/2 Salário</td>\n",
       "    </tr>\n",
       "    <tr>\n",
       "      <th>32</th>\n",
       "      <td>Norte</td>\n",
       "      <td>Sim</td>\n",
       "      <td>Até 1/2 Salário</td>\n",
       "    </tr>\n",
       "    <tr>\n",
       "      <th>33</th>\n",
       "      <td>Norte</td>\n",
       "      <td>Sim</td>\n",
       "      <td>Até 1/2 Salário</td>\n",
       "    </tr>\n",
       "    <tr>\n",
       "      <th>35</th>\n",
       "      <td>Norte</td>\n",
       "      <td>Não</td>\n",
       "      <td>Até 1/2 Salário</td>\n",
       "    </tr>\n",
       "    <tr>\n",
       "      <th>36</th>\n",
       "      <td>Norte</td>\n",
       "      <td>Não</td>\n",
       "      <td>Até 1/2 Salário</td>\n",
       "    </tr>\n",
       "  </tbody>\n",
       "</table>\n",
       "</div>"
      ],
      "text/plain": [
       "   REGIAO INTERNET_NO_DOMICILIO   Faixa_Salarial\n",
       "6   Norte                   Não  Até 1/2 Salário\n",
       "32  Norte                   Sim  Até 1/2 Salário\n",
       "33  Norte                   Sim  Até 1/2 Salário\n",
       "35  Norte                   Não  Até 1/2 Salário\n",
       "36  Norte                   Não  Até 1/2 Salário"
      ]
     },
     "execution_count": 136,
     "metadata": {},
     "output_type": "execute_result"
    }
   ],
   "source": [
    "baixarenda_NORTE = dados[  (dados.Faixa_Salarial== 'Até 1/2 Salário') & (dados.REGIAO =='Norte')].loc[:,[ 'REGIAO', 'INTERNET_NO_DOMICILIO', 'Faixa_Salarial' ]]\n",
    "baixarenda_NORTE.head()\n"
   ]
  },
  {
   "cell_type": "code",
   "execution_count": 137,
   "metadata": {
    "collapsed": false
   },
   "outputs": [
    {
     "name": "stdout",
     "output_type": "stream",
     "text": [
      "NORTE - QUANTOS POSSUEM ACESSO A INTERNET EM CASA\n"
     ]
    },
    {
     "data": {
      "text/plain": [
       "Não    67.9\n",
       "Sim    32.1\n",
       "Name: INTERNET_NO_DOMICILIO, dtype: float64"
      ]
     },
     "execution_count": 137,
     "metadata": {},
     "output_type": "execute_result"
    }
   ],
   "source": [
    "print(\"NORTE - QUANTOS POSSUEM ACESSO A INTERNET EM CASA\")\n",
    "ut2 = (baixarenda_NORTE.INTERNET_NO_DOMICILIO.value_counts(sort=False, normalize=True)*100).round(decimals=1)\n",
    "ut2\n"
   ]
  },
  {
   "cell_type": "code",
   "execution_count": 138,
   "metadata": {
    "collapsed": false
   },
   "outputs": [
    {
     "data": {
      "text/html": [
       "<div>\n",
       "<table border=\"1\" class=\"dataframe\">\n",
       "  <thead>\n",
       "    <tr style=\"text-align: right;\">\n",
       "      <th></th>\n",
       "      <th>REGIAO</th>\n",
       "      <th>INTERNET_NO_DOMICILIO</th>\n",
       "      <th>V0232</th>\n",
       "      <th>V02324</th>\n",
       "    </tr>\n",
       "  </thead>\n",
       "  <tbody>\n",
       "    <tr>\n",
       "      <th>32</th>\n",
       "      <td>Norte</td>\n",
       "      <td>Sim</td>\n",
       "      <td>Sim</td>\n",
       "      <td>Não</td>\n",
       "    </tr>\n",
       "    <tr>\n",
       "      <th>33</th>\n",
       "      <td>Norte</td>\n",
       "      <td>Sim</td>\n",
       "      <td>Sim</td>\n",
       "      <td>Não</td>\n",
       "    </tr>\n",
       "    <tr>\n",
       "      <th>39</th>\n",
       "      <td>Norte</td>\n",
       "      <td>Sim</td>\n",
       "      <td>Sim</td>\n",
       "      <td>Sim</td>\n",
       "    </tr>\n",
       "    <tr>\n",
       "      <th>87</th>\n",
       "      <td>Norte</td>\n",
       "      <td>Sim</td>\n",
       "      <td>Sim</td>\n",
       "      <td>Sim</td>\n",
       "    </tr>\n",
       "    <tr>\n",
       "      <th>97</th>\n",
       "      <td>Norte</td>\n",
       "      <td>Sim</td>\n",
       "      <td>NaN</td>\n",
       "      <td>Sim</td>\n",
       "    </tr>\n",
       "  </tbody>\n",
       "</table>\n",
       "</div>"
      ],
      "text/plain": [
       "   REGIAO INTERNET_NO_DOMICILIO V0232 V02324\n",
       "32  Norte                   Sim   Sim    Não\n",
       "33  Norte                   Sim   Sim    Não\n",
       "39  Norte                   Sim   Sim    Sim\n",
       "87  Norte                   Sim   Sim    Sim\n",
       "97  Norte                   Sim   NaN    Sim"
      ]
     },
     "execution_count": 138,
     "metadata": {},
     "output_type": "execute_result"
    }
   ],
   "source": [
    "forma_NORTE = dados[  (dados.Faixa_Salarial== 'Até 1/2 Salário') & (dados.REGIAO =='Norte') & (dados.INTERNET_NO_DOMICILIO =='Sim')].loc[:,['REGIAO','INTERNET_NO_DOMICILIO', 'V0232', 'V02324']]\n",
    "forma_NORTE.head()"
   ]
  },
  {
   "cell_type": "markdown",
   "metadata": {},
   "source": [
    "# Os gráficos de pizza indicam que, no ano de 2015 49.6 % da população do sudeste, com até 1/2 salário mínimo, possuem acesso a internet. Enquanto no Norte, apenas 32.1 % dos mesmo possuem acesso."
   ]
  },
  {
   "cell_type": "code",
   "execution_count": 139,
   "metadata": {
    "collapsed": false
   },
   "outputs": [
    {
     "data": {
      "image/png": "[encoded data removed]",
      "text/plain": [
       "<matplotlib.figure.Figure at 0x2141c570b00>"
      ]
     },
     "metadata": {},
     "output_type": "display_data"
    },
    {
     "data": {
      "image/png": "[encoded data removed]",
      "text/plain": [
       "<matplotlib.figure.Figure at 0x214120b7f28>"
      ]
     },
     "metadata": {},
     "output_type": "display_data"
    }
   ],
   "source": [
    "fig = plt.figure(figsize=(15, 5))\n",
    "plt.subplot(131)\n",
    "plot = ut1.plot(kind='pie',title='Internet no Domicílio - Sudeste até 1/2 salário mínimo',autopct='%.1f')\n",
    "\n",
    "\n",
    "plt.tight_layout()\n",
    "plt.show()\n",
    "\n",
    "\n",
    "\n",
    "fig = plt.figure(figsize=(15, 5))\n",
    "plt.subplot(131)\n",
    "plot = ut2.plot(kind='pie',title='Internet no Domicílio - Norte até 1/2 salário mínimo',autopct='%.1f')\n",
    "\n",
    "\n",
    "plt.tight_layout()\n",
    "plt.show()\n"
   ]
  },
  {
   "cell_type": "markdown",
   "metadata": {},
   "source": [
    "# Verificando a frequência relativa das pessoas que acessam internet pelo PC ou pelo Celular, de um total de pessoas que possuem internet.\n",
    "\n",
    "\n",
    "# A tabela (crosstab) e o gráfico de barras indicam que, na região sudeste, 88.9 % da população de baixíssima renda, que acessa a internet em casa, realiza o acesso pelo computador. E 91.4 % acessam pelo celular. Ou seja, grande parte possui ambos os equipamentos.\n"
   ]
  },
  {
   "cell_type": "code",
   "execution_count": 140,
   "metadata": {
    "collapsed": false
   },
   "outputs": [
    {
     "name": "stdout",
     "output_type": "stream",
     "text": [
      "Entre todos que tem internet no sudeste, quantos % acessam pelo computador\n"
     ]
    },
    {
     "data": {
      "text/html": [
       "<div>\n",
       "<table border=\"1\" class=\"dataframe\">\n",
       "  <thead>\n",
       "    <tr style=\"text-align: right;\">\n",
       "      <th></th>\n",
       "      <th>V0232</th>\n",
       "      <th>Sim</th>\n",
       "      <th>Não</th>\n",
       "    </tr>\n",
       "    <tr>\n",
       "      <th>REGIAO</th>\n",
       "      <th>INTERNET_NO_DOMICILIO</th>\n",
       "      <th></th>\n",
       "      <th></th>\n",
       "    </tr>\n",
       "  </thead>\n",
       "  <tbody>\n",
       "    <tr>\n",
       "      <th>Sudeste</th>\n",
       "      <th>Sim</th>\n",
       "      <td>88.9</td>\n",
       "      <td>11.1</td>\n",
       "    </tr>\n",
       "  </tbody>\n",
       "</table>\n",
       "</div>"
      ],
      "text/plain": [
       "V0232                           Sim   Não\n",
       "REGIAO  INTERNET_NO_DOMICILIO            \n",
       "Sudeste Sim                    88.9  11.1"
      ]
     },
     "execution_count": 140,
     "metadata": {},
     "output_type": "execute_result"
    }
   ],
   "source": [
    "\n",
    "print(\"Entre todos que tem internet no sudeste, quantos % acessam pelo computador\")\n",
    "sudestePC=(pd.crosstab([forma_SUDESTE.REGIAO, forma_SUDESTE.INTERNET_NO_DOMICILIO],forma_SUDESTE.V0232, normalize='index')*100).round(decimals=1)\n",
    "sudestePC\n",
    "\n",
    "\n",
    "\n"
   ]
  },
  {
   "cell_type": "code",
   "execution_count": 141,
   "metadata": {
    "collapsed": false
   },
   "outputs": [
    {
     "data": {
      "text/plain": [
       "<matplotlib.text.Text at 0x214137eeb70>"
      ]
     },
     "execution_count": 141,
     "metadata": {},
     "output_type": "execute_result"
    },
    {
     "data": {
      "image/png": "[encoded data removed]",
      "text/plain": [
       "<matplotlib.figure.Figure at 0x214120b6eb8>"
      ]
     },
     "metadata": {},
     "output_type": "display_data"
    }
   ],
   "source": [
    "plot = sudestePC.plot(kind='bar',title='SUDESTE',figsize=(6, 6),color=('b','g'))\n",
    "plt.ylabel('Freq.Relativa (em %)')\n",
    "plt.xlabel('Acesso pelo Computador')\n",
    "\n",
    "\n",
    "\n"
   ]
  },
  {
   "cell_type": "code",
   "execution_count": 142,
   "metadata": {
    "collapsed": false
   },
   "outputs": [
    {
     "name": "stdout",
     "output_type": "stream",
     "text": [
      "Entre todos que tem internet no sudeste, quantos % acessam pelo celular\n"
     ]
    },
    {
     "data": {
      "text/html": [
       "<div>\n",
       "<table border=\"1\" class=\"dataframe\">\n",
       "  <thead>\n",
       "    <tr style=\"text-align: right;\">\n",
       "      <th></th>\n",
       "      <th>V02324</th>\n",
       "      <th>Sim</th>\n",
       "      <th>Não</th>\n",
       "    </tr>\n",
       "    <tr>\n",
       "      <th>REGIAO</th>\n",
       "      <th>INTERNET_NO_DOMICILIO</th>\n",
       "      <th></th>\n",
       "      <th></th>\n",
       "    </tr>\n",
       "  </thead>\n",
       "  <tbody>\n",
       "    <tr>\n",
       "      <th>Sudeste</th>\n",
       "      <th>Sim</th>\n",
       "      <td>91.4</td>\n",
       "      <td>8.6</td>\n",
       "    </tr>\n",
       "  </tbody>\n",
       "</table>\n",
       "</div>"
      ],
      "text/plain": [
       "V02324                          Sim  Não\n",
       "REGIAO  INTERNET_NO_DOMICILIO           \n",
       "Sudeste Sim                    91.4  8.6"
      ]
     },
     "execution_count": 142,
     "metadata": {},
     "output_type": "execute_result"
    }
   ],
   "source": [
    "print(\"Entre todos que tem internet no sudeste, quantos % acessam pelo celular\")\n",
    "sudesteCEL=(pd.crosstab([forma_SUDESTE.REGIAO, forma_SUDESTE.INTERNET_NO_DOMICILIO],forma_SUDESTE.V02324, normalize='index')*100).round(decimals=1)\n",
    "sudesteCEL\n",
    "\n"
   ]
  },
  {
   "cell_type": "code",
   "execution_count": 143,
   "metadata": {
    "collapsed": false
   },
   "outputs": [
    {
     "data": {
      "text/plain": [
       "<matplotlib.text.Text at 0x2141a4adfd0>"
      ]
     },
     "execution_count": 143,
     "metadata": {},
     "output_type": "execute_result"
    },
    {
     "data": {
      "image/png": "[encoded data removed]",
      "text/plain": [
       "<matplotlib.figure.Figure at 0x2141a46e6a0>"
      ]
     },
     "metadata": {},
     "output_type": "display_data"
    }
   ],
   "source": [
    "plot = sudesteCEL.plot(kind='bar',title='SUDESTE',figsize=(6, 6),color=('b','g'))\n",
    "plt.ylabel('Freq.Relativa (em %)')\n",
    "plt.xlabel('Acesso pelo Celular')"
   ]
  },
  {
   "cell_type": "code",
   "execution_count": 144,
   "metadata": {
    "collapsed": false
   },
   "outputs": [
    {
     "name": "stdout",
     "output_type": "stream",
     "text": [
      "Entre todos que tem internet no Norte, quantos % acessam pelo computador\n"
     ]
    },
    {
     "data": {
      "text/html": [
       "<div>\n",
       "<table border=\"1\" class=\"dataframe\">\n",
       "  <thead>\n",
       "    <tr style=\"text-align: right;\">\n",
       "      <th></th>\n",
       "      <th>V0232</th>\n",
       "      <th>Sim</th>\n",
       "      <th>Não</th>\n",
       "    </tr>\n",
       "    <tr>\n",
       "      <th>REGIAO</th>\n",
       "      <th>INTERNET_NO_DOMICILIO</th>\n",
       "      <th></th>\n",
       "      <th></th>\n",
       "    </tr>\n",
       "  </thead>\n",
       "  <tbody>\n",
       "    <tr>\n",
       "      <th>Norte</th>\n",
       "      <th>Sim</th>\n",
       "      <td>76.4</td>\n",
       "      <td>23.6</td>\n",
       "    </tr>\n",
       "  </tbody>\n",
       "</table>\n",
       "</div>"
      ],
      "text/plain": [
       "V0232                          Sim   Não\n",
       "REGIAO INTERNET_NO_DOMICILIO            \n",
       "Norte  Sim                    76.4  23.6"
      ]
     },
     "execution_count": 144,
     "metadata": {},
     "output_type": "execute_result"
    }
   ],
   "source": [
    "print(\"Entre todos que tem internet no Norte, quantos % acessam pelo computador\")\n",
    "nortePC=(pd.crosstab([forma_NORTE.REGIAO, forma_NORTE.INTERNET_NO_DOMICILIO],forma_NORTE.V0232, normalize='index')*100).round(decimals=1)\n",
    "nortePC"
   ]
  },
  {
   "cell_type": "code",
   "execution_count": 145,
   "metadata": {
    "collapsed": false
   },
   "outputs": [
    {
     "data": {
      "text/plain": [
       "<matplotlib.text.Text at 0x2141a46e320>"
      ]
     },
     "execution_count": 145,
     "metadata": {},
     "output_type": "execute_result"
    },
    {
     "data": {
      "image/png": "[encoded data removed]",
      "text/plain": [
       "<matplotlib.figure.Figure at 0x2141a504668>"
      ]
     },
     "metadata": {},
     "output_type": "display_data"
    }
   ],
   "source": [
    "plot = nortePC.plot(kind='bar',title='NORTE')\n",
    "plt.ylabel('Freq.Relativa (em %)')\n",
    "plt.xlabel('Acesso pelo Computador')\n"
   ]
  },
  {
   "cell_type": "code",
   "execution_count": 146,
   "metadata": {
    "collapsed": false
   },
   "outputs": [
    {
     "name": "stdout",
     "output_type": "stream",
     "text": [
      "Entre todos que tem internet no Norte, quantos % acessam pelo celular\n"
     ]
    },
    {
     "data": {
      "text/html": [
       "<div>\n",
       "<table border=\"1\" class=\"dataframe\">\n",
       "  <thead>\n",
       "    <tr style=\"text-align: right;\">\n",
       "      <th></th>\n",
       "      <th>V02324</th>\n",
       "      <th>Sim</th>\n",
       "      <th>Não</th>\n",
       "    </tr>\n",
       "    <tr>\n",
       "      <th>REGIAO</th>\n",
       "      <th>INTERNET_NO_DOMICILIO</th>\n",
       "      <th></th>\n",
       "      <th></th>\n",
       "    </tr>\n",
       "  </thead>\n",
       "  <tbody>\n",
       "    <tr>\n",
       "      <th>Norte</th>\n",
       "      <th>Sim</th>\n",
       "      <td>97.3</td>\n",
       "      <td>2.7</td>\n",
       "    </tr>\n",
       "  </tbody>\n",
       "</table>\n",
       "</div>"
      ],
      "text/plain": [
       "V02324                         Sim  Não\n",
       "REGIAO INTERNET_NO_DOMICILIO           \n",
       "Norte  Sim                    97.3  2.7"
      ]
     },
     "execution_count": 146,
     "metadata": {},
     "output_type": "execute_result"
    }
   ],
   "source": [
    "print(\"Entre todos que tem internet no Norte, quantos % acessam pelo celular\")\n",
    "norteCEL=(pd.crosstab([forma_NORTE.REGIAO, forma_NORTE.INTERNET_NO_DOMICILIO],forma_NORTE.V02324, normalize='index')*100).round(decimals=1)\n",
    "norteCEL"
   ]
  },
  {
   "cell_type": "code",
   "execution_count": 147,
   "metadata": {
    "collapsed": false
   },
   "outputs": [
    {
     "data": {
      "text/plain": [
       "<matplotlib.text.Text at 0x2141a49df98>"
      ]
     },
     "execution_count": 147,
     "metadata": {},
     "output_type": "execute_result"
    },
    {
     "data": {
      "image/png": "[encoded data removed]",
      "text/plain": [
       "<matplotlib.figure.Figure at 0x2141c07d3c8>"
      ]
     },
     "metadata": {},
     "output_type": "display_data"
    }
   ],
   "source": [
    "plot = norteCEL.plot(kind='bar',title='NORTE')\n",
    "plt.ylabel('Freq.Relativa (em %)')\n",
    "plt.xlabel('Acesso pelo Celular')\n"
   ]
  },
  {
   "cell_type": "code",
   "execution_count": null,
   "metadata": {
    "collapsed": true
   },
   "outputs": [],
   "source": []
  },
  {
   "cell_type": "markdown",
   "metadata": {
    "collapsed": false
   },
   "source": [
    "# ANO DE 2013"
   ]
  },
  {
   "cell_type": "code",
   "execution_count": null,
   "metadata": {
    "collapsed": true
   },
   "outputs": [],
   "source": []
  },
  {
   "cell_type": "code",
   "execution_count": 148,
   "metadata": {
    "collapsed": false
   },
   "outputs": [],
   "source": [
    "# REGIAO \n",
    "ano.loc[(ano.UF>30)&(ano.UF<36), 'REGIAO'] = 'Sudeste'\n",
    "ano.loc[(ano.UF>35)&(ano.UF<44), 'REGIAO'] = 'Sul'\n",
    "ano.loc[(ano.UF>43)&(ano.UF<54), 'REGIAO'] = 'Centro-Oeste'\n",
    "ano.loc[(ano.UF>10)&(ano.UF<23), 'REGIAO'] = 'Norte'\n",
    "ano.loc[(ano.UF>22)&(ano.UF<31), 'REGIAO'] = 'Nordeste'                              \n",
    "\n",
    "\n",
    "#RENDIMENTO MENSAL DOMCILIAR PER CAPITA (R$)\n",
    "\n",
    "ano.loc[(ano.V4622>-1)&(ano.V4622<3), 'Faixa_Salarial'] = 'Até meio salario'\n",
    "\n",
    "\n",
    "\n",
    "# TEM INTERNET NO DOMICILIO ?\n",
    "ano.V02322 = ano.V02322.astype('category')\n",
    "\n",
    "ano.loc[(ano.V02322 == 2), 'INTERNET_NO_DOMICILIO'] = 'Sim'\n",
    "ano.loc[(ano.V02322 == 4), 'INTERNET_NO_DOMICILIO'] = 'Não'\n",
    "\n",
    "\n",
    "# ACESSA PELO Telefone Celular\n",
    "ano.V02324 = ano.V02324.astype('category')\n",
    "ano.V02324.cat.categories = ('Sim', 'Não')\n",
    "\n",
    "ano.loc[(ano.V02324 == 2), 'PELO_CELULAR'] = 'Sim'\n",
    "ano.loc[(ano.V02324 == 4), 'PELO_CELULAR'] = 'Não'\n",
    "\n",
    "\n",
    "#ACESSA PELO COMPUTADOR\n",
    "ano.V0232 = ano.V0232.astype('category')\n",
    "ano.V0232.cat.categories = ('Sim', 'Não')\n",
    "\n",
    "ano.loc[(ano.V0232 == 2), 'PELO_PC'] = 'Sim'\n",
    "ano.loc[(ano.V0232 == 4), 'PELO_PC'] = 'Não'\n"
   ]
  },
  {
   "cell_type": "code",
   "execution_count": 149,
   "metadata": {
    "collapsed": false
   },
   "outputs": [
    {
     "name": "stdout",
     "output_type": "stream",
     "text": [
      "SUDESTE\n",
      "ANALISANDO A POPULAÇAÕ COM UMA RENDA DOMICILIAR DE ATÉ 1/2 SALÁRIO MÍNIMO\n"
     ]
    },
    {
     "data": {
      "text/html": [
       "<div>\n",
       "<table border=\"1\" class=\"dataframe\">\n",
       "  <thead>\n",
       "    <tr style=\"text-align: right;\">\n",
       "      <th></th>\n",
       "      <th>Faixa_Salarial</th>\n",
       "      <th>INTERNET_NO_DOMICILIO</th>\n",
       "      <th>V0232</th>\n",
       "      <th>V02324</th>\n",
       "    </tr>\n",
       "  </thead>\n",
       "  <tbody>\n",
       "    <tr>\n",
       "      <th>63847</th>\n",
       "      <td>Até meio salario</td>\n",
       "      <td>Não</td>\n",
       "      <td>NaN</td>\n",
       "      <td>NaN</td>\n",
       "    </tr>\n",
       "    <tr>\n",
       "      <th>63855</th>\n",
       "      <td>Até meio salario</td>\n",
       "      <td>Não</td>\n",
       "      <td>Não</td>\n",
       "      <td>NaN</td>\n",
       "    </tr>\n",
       "    <tr>\n",
       "      <th>63858</th>\n",
       "      <td>Até meio salario</td>\n",
       "      <td>Não</td>\n",
       "      <td>NaN</td>\n",
       "      <td>NaN</td>\n",
       "    </tr>\n",
       "    <tr>\n",
       "      <th>63874</th>\n",
       "      <td>Até meio salario</td>\n",
       "      <td>Não</td>\n",
       "      <td>Não</td>\n",
       "      <td>NaN</td>\n",
       "    </tr>\n",
       "    <tr>\n",
       "      <th>63877</th>\n",
       "      <td>Até meio salario</td>\n",
       "      <td>Não</td>\n",
       "      <td>NaN</td>\n",
       "      <td>NaN</td>\n",
       "    </tr>\n",
       "  </tbody>\n",
       "</table>\n",
       "</div>"
      ],
      "text/plain": [
       "         Faixa_Salarial INTERNET_NO_DOMICILIO V0232 V02324\n",
       "63847  Até meio salario                   Não   NaN    NaN\n",
       "63855  Até meio salario                   Não   Não    NaN\n",
       "63858  Até meio salario                   Não   NaN    NaN\n",
       "63874  Até meio salario                   Não   Não    NaN\n",
       "63877  Até meio salario                   Não   NaN    NaN"
      ]
     },
     "execution_count": 149,
     "metadata": {},
     "output_type": "execute_result"
    }
   ],
   "source": [
    "print(\"SUDESTE\")\n",
    "print(\"ANALISANDO A POPULAÇAÕ COM UMA RENDA DOMICILIAR DE ATÉ 1/2 SALÁRIO MÍNIMO\")\n",
    "\n",
    "baixarenda_SUDESTE13 = ano[ (ano.Faixa_Salarial== 'Até meio salario') & (ano.REGIAO =='Sudeste')].loc[:,['Faixa_Salarial', 'INTERNET_NO_DOMICILIO', 'V0232', 'V02324' ]]\n",
    "baixarenda_SUDESTE13.head()"
   ]
  },
  {
   "cell_type": "code",
   "execution_count": 150,
   "metadata": {
    "collapsed": false
   },
   "outputs": [
    {
     "name": "stdout",
     "output_type": "stream",
     "text": [
      "SUDESTE - QUANTOS POSSUEM ACESSO A INTERNET EM CASA\n"
     ]
    },
    {
     "data": {
      "text/plain": [
       "Não    66.4\n",
       "Sim    33.6\n",
       "Name: INTERNET_NO_DOMICILIO, dtype: float64"
      ]
     },
     "execution_count": 150,
     "metadata": {},
     "output_type": "execute_result"
    }
   ],
   "source": [
    "print(\"SUDESTE - QUANTOS POSSUEM ACESSO A INTERNET EM CASA\")\n",
    "ut13 = (baixarenda_SUDESTE13.INTERNET_NO_DOMICILIO.value_counts(sort=False, normalize=True)*100).round(decimals=1)\n",
    "ut13"
   ]
  },
  {
   "cell_type": "code",
   "execution_count": 156,
   "metadata": {
    "collapsed": false
   },
   "outputs": [
    {
     "data": {
      "text/html": [
       "<div>\n",
       "<table border=\"1\" class=\"dataframe\">\n",
       "  <thead>\n",
       "    <tr style=\"text-align: right;\">\n",
       "      <th></th>\n",
       "      <th>REGIAO</th>\n",
       "      <th>INTERNET_NO_DOMICILIO</th>\n",
       "      <th>V0232</th>\n",
       "      <th>V02324</th>\n",
       "      <th>Faixa_Salarial</th>\n",
       "    </tr>\n",
       "  </thead>\n",
       "  <tbody>\n",
       "    <tr>\n",
       "      <th>108467</th>\n",
       "      <td>Sudeste</td>\n",
       "      <td>Sim</td>\n",
       "      <td>NaN</td>\n",
       "      <td>Sim</td>\n",
       "      <td>Até meio salario</td>\n",
       "    </tr>\n",
       "    <tr>\n",
       "      <th>108473</th>\n",
       "      <td>Sudeste</td>\n",
       "      <td>Sim</td>\n",
       "      <td>Sim</td>\n",
       "      <td>Não</td>\n",
       "      <td>Até meio salario</td>\n",
       "    </tr>\n",
       "    <tr>\n",
       "      <th>108545</th>\n",
       "      <td>Sudeste</td>\n",
       "      <td>Sim</td>\n",
       "      <td>Sim</td>\n",
       "      <td>Não</td>\n",
       "      <td>Até meio salario</td>\n",
       "    </tr>\n",
       "    <tr>\n",
       "      <th>108563</th>\n",
       "      <td>Sudeste</td>\n",
       "      <td>Sim</td>\n",
       "      <td>Sim</td>\n",
       "      <td>Não</td>\n",
       "      <td>Até meio salario</td>\n",
       "    </tr>\n",
       "    <tr>\n",
       "      <th>108569</th>\n",
       "      <td>Sudeste</td>\n",
       "      <td>Sim</td>\n",
       "      <td>Sim</td>\n",
       "      <td>Sim</td>\n",
       "      <td>Até meio salario</td>\n",
       "    </tr>\n",
       "  </tbody>\n",
       "</table>\n",
       "</div>"
      ],
      "text/plain": [
       "         REGIAO INTERNET_NO_DOMICILIO V0232 V02324    Faixa_Salarial\n",
       "108467  Sudeste                   Sim   NaN    Sim  Até meio salario\n",
       "108473  Sudeste                   Sim   Sim    Não  Até meio salario\n",
       "108545  Sudeste                   Sim   Sim    Não  Até meio salario\n",
       "108563  Sudeste                   Sim   Sim    Não  Até meio salario\n",
       "108569  Sudeste                   Sim   Sim    Sim  Até meio salario"
      ]
     },
     "execution_count": 156,
     "metadata": {},
     "output_type": "execute_result"
    }
   ],
   "source": [
    "forma_SUDESTE13 = ano[  (ano.Faixa_Salarial== 'Até meio salario') & (ano.REGIAO =='Sudeste') & (ano.INTERNET_NO_DOMICILIO =='Sim')].loc[:,['REGIAO','INTERNET_NO_DOMICILIO', 'V0232', 'V02324', 'Faixa_Salarial']]\n",
    "forma_SUDESTE13.tail()"
   ]
  },
  {
   "cell_type": "code",
   "execution_count": 157,
   "metadata": {
    "collapsed": false
   },
   "outputs": [
    {
     "data": {
      "text/html": [
       "<div>\n",
       "<table border=\"1\" class=\"dataframe\">\n",
       "  <thead>\n",
       "    <tr style=\"text-align: right;\">\n",
       "      <th></th>\n",
       "      <th>REGIAO</th>\n",
       "      <th>INTERNET_NO_DOMICILIO</th>\n",
       "      <th>Faixa_Salarial</th>\n",
       "    </tr>\n",
       "  </thead>\n",
       "  <tbody>\n",
       "    <tr>\n",
       "      <th>3</th>\n",
       "      <td>Norte</td>\n",
       "      <td>Não</td>\n",
       "      <td>Até meio salario</td>\n",
       "    </tr>\n",
       "    <tr>\n",
       "      <th>4</th>\n",
       "      <td>Norte</td>\n",
       "      <td>Não</td>\n",
       "      <td>Até meio salario</td>\n",
       "    </tr>\n",
       "    <tr>\n",
       "      <th>10</th>\n",
       "      <td>Norte</td>\n",
       "      <td>Não</td>\n",
       "      <td>Até meio salario</td>\n",
       "    </tr>\n",
       "    <tr>\n",
       "      <th>11</th>\n",
       "      <td>Norte</td>\n",
       "      <td>Não</td>\n",
       "      <td>Até meio salario</td>\n",
       "    </tr>\n",
       "    <tr>\n",
       "      <th>26</th>\n",
       "      <td>Norte</td>\n",
       "      <td>Não</td>\n",
       "      <td>Até meio salario</td>\n",
       "    </tr>\n",
       "  </tbody>\n",
       "</table>\n",
       "</div>"
      ],
      "text/plain": [
       "   REGIAO INTERNET_NO_DOMICILIO    Faixa_Salarial\n",
       "3   Norte                   Não  Até meio salario\n",
       "4   Norte                   Não  Até meio salario\n",
       "10  Norte                   Não  Até meio salario\n",
       "11  Norte                   Não  Até meio salario\n",
       "26  Norte                   Não  Até meio salario"
      ]
     },
     "execution_count": 157,
     "metadata": {},
     "output_type": "execute_result"
    }
   ],
   "source": [
    "baixarenda_NORTE13 = ano[  (ano.Faixa_Salarial== 'Até meio salario') & (ano.REGIAO =='Norte')].loc[:,[ 'REGIAO', 'INTERNET_NO_DOMICILIO', 'Faixa_Salarial' ]]\n",
    "baixarenda_NORTE13.head()\n"
   ]
  },
  {
   "cell_type": "code",
   "execution_count": 158,
   "metadata": {
    "collapsed": false
   },
   "outputs": [
    {
     "name": "stdout",
     "output_type": "stream",
     "text": [
      "NORTE - QUANTOS POSSUEM ACESSO A INTERNET EM CASA\n"
     ]
    },
    {
     "data": {
      "text/plain": [
       "Não    80.3\n",
       "Sim    19.7\n",
       "Name: INTERNET_NO_DOMICILIO, dtype: float64"
      ]
     },
     "execution_count": 158,
     "metadata": {},
     "output_type": "execute_result"
    }
   ],
   "source": [
    "print(\"NORTE - QUANTOS POSSUEM ACESSO A INTERNET EM CASA\")\n",
    "ut14 = (baixarenda_NORTE13.INTERNET_NO_DOMICILIO.value_counts(sort=False, normalize=True)*100).round(decimals=1)\n",
    "ut14"
   ]
  },
  {
   "cell_type": "code",
   "execution_count": 159,
   "metadata": {
    "collapsed": false
   },
   "outputs": [
    {
     "data": {
      "text/html": [
       "<div>\n",
       "<table border=\"1\" class=\"dataframe\">\n",
       "  <thead>\n",
       "    <tr style=\"text-align: right;\">\n",
       "      <th></th>\n",
       "      <th>REGIAO</th>\n",
       "      <th>INTERNET_NO_DOMICILIO</th>\n",
       "      <th>V0232</th>\n",
       "      <th>V02324</th>\n",
       "    </tr>\n",
       "  </thead>\n",
       "  <tbody>\n",
       "    <tr>\n",
       "      <th>43</th>\n",
       "      <td>Norte</td>\n",
       "      <td>Sim</td>\n",
       "      <td>Sim</td>\n",
       "      <td>Não</td>\n",
       "    </tr>\n",
       "    <tr>\n",
       "      <th>51</th>\n",
       "      <td>Norte</td>\n",
       "      <td>Sim</td>\n",
       "      <td>NaN</td>\n",
       "      <td>Sim</td>\n",
       "    </tr>\n",
       "    <tr>\n",
       "      <th>53</th>\n",
       "      <td>Norte</td>\n",
       "      <td>Sim</td>\n",
       "      <td>Sim</td>\n",
       "      <td>Sim</td>\n",
       "    </tr>\n",
       "    <tr>\n",
       "      <th>84</th>\n",
       "      <td>Norte</td>\n",
       "      <td>Sim</td>\n",
       "      <td>Sim</td>\n",
       "      <td>Não</td>\n",
       "    </tr>\n",
       "    <tr>\n",
       "      <th>85</th>\n",
       "      <td>Norte</td>\n",
       "      <td>Sim</td>\n",
       "      <td>Sim</td>\n",
       "      <td>Não</td>\n",
       "    </tr>\n",
       "  </tbody>\n",
       "</table>\n",
       "</div>"
      ],
      "text/plain": [
       "   REGIAO INTERNET_NO_DOMICILIO V0232 V02324\n",
       "43  Norte                   Sim   Sim    Não\n",
       "51  Norte                   Sim   NaN    Sim\n",
       "53  Norte                   Sim   Sim    Sim\n",
       "84  Norte                   Sim   Sim    Não\n",
       "85  Norte                   Sim   Sim    Não"
      ]
     },
     "execution_count": 159,
     "metadata": {},
     "output_type": "execute_result"
    }
   ],
   "source": [
    "forma_NORTE13 = ano[  (ano.Faixa_Salarial== 'Até meio salario') & (ano.REGIAO =='Norte') & (ano.INTERNET_NO_DOMICILIO =='Sim')].loc[:,['REGIAO','INTERNET_NO_DOMICILIO', 'V0232', 'V02324']]\n",
    "forma_NORTE13.head()"
   ]
  },
  {
   "cell_type": "code",
   "execution_count": 160,
   "metadata": {
    "collapsed": false
   },
   "outputs": [
    {
     "data": {
      "image/png": "[encoded data removed]",
      "text/plain": [
       "<matplotlib.figure.Figure at 0x2141c0b53c8>"
      ]
     },
     "metadata": {},
     "output_type": "display_data"
    },
    {
     "data": {
      "image/png": "[encoded data removed]",
      "text/plain": [
       "<matplotlib.figure.Figure at 0x2141c102438>"
      ]
     },
     "metadata": {},
     "output_type": "display_data"
    }
   ],
   "source": [
    "fig = plt.figure(figsize=(15, 5))\n",
    "plt.subplot(131)\n",
    "plot = ut13.plot(kind='pie',title='Internet no Domicílio - Sudeste até 1/2 salário mínimo',autopct='%.1f')\n",
    "\n",
    "\n",
    "plt.tight_layout()\n",
    "plt.show()\n",
    "\n",
    "\n",
    "\n",
    "fig = plt.figure(figsize=(15, 5))\n",
    "plt.subplot(131)\n",
    "plot = ut14.plot(kind='pie',title='Internet no Domicílio - Norte até 1/2 salário mínimo',autopct='%.1f')\n",
    "\n",
    "\n",
    "plt.tight_layout()\n",
    "plt.show()"
   ]
  },
  {
   "cell_type": "code",
   "execution_count": 161,
   "metadata": {
    "collapsed": false
   },
   "outputs": [
    {
     "name": "stdout",
     "output_type": "stream",
     "text": [
      "Entre todos que tem internet no sudeste, quantos % acessam pelo computador\n"
     ]
    },
    {
     "data": {
      "text/html": [
       "<div>\n",
       "<table border=\"1\" class=\"dataframe\">\n",
       "  <thead>\n",
       "    <tr style=\"text-align: right;\">\n",
       "      <th></th>\n",
       "      <th>V0232</th>\n",
       "      <th>Sim</th>\n",
       "      <th>Não</th>\n",
       "    </tr>\n",
       "    <tr>\n",
       "      <th>REGIAO</th>\n",
       "      <th>INTERNET_NO_DOMICILIO</th>\n",
       "      <th></th>\n",
       "      <th></th>\n",
       "    </tr>\n",
       "  </thead>\n",
       "  <tbody>\n",
       "    <tr>\n",
       "      <th>Sudeste</th>\n",
       "      <th>Sim</th>\n",
       "      <td>95.5</td>\n",
       "      <td>4.5</td>\n",
       "    </tr>\n",
       "  </tbody>\n",
       "</table>\n",
       "</div>"
      ],
      "text/plain": [
       "V0232                           Sim  Não\n",
       "REGIAO  INTERNET_NO_DOMICILIO           \n",
       "Sudeste Sim                    95.5  4.5"
      ]
     },
     "execution_count": 161,
     "metadata": {},
     "output_type": "execute_result"
    }
   ],
   "source": [
    "print(\"Entre todos que tem internet no sudeste, quantos % acessam pelo computador\")\n",
    "sudestePC13=(pd.crosstab([forma_SUDESTE13.REGIAO, forma_SUDESTE13.INTERNET_NO_DOMICILIO],forma_SUDESTE13.V0232, normalize='index')*100).round(decimals=1)\n",
    "sudestePC13\n",
    "\n"
   ]
  },
  {
   "cell_type": "code",
   "execution_count": 162,
   "metadata": {
    "collapsed": false
   },
   "outputs": [
    {
     "data": {
      "text/plain": [
       "<matplotlib.text.Text at 0x2141382c908>"
      ]
     },
     "execution_count": 162,
     "metadata": {},
     "output_type": "execute_result"
    },
    {
     "data": {
      "image/png": "[encoded data removed]",
      "text/plain": [
       "<matplotlib.figure.Figure at 0x21413c06d30>"
      ]
     },
     "metadata": {},
     "output_type": "display_data"
    }
   ],
   "source": [
    "plot = sudestePC13.plot(kind='bar',title='SUDESTE',figsize=(6, 6),color=('b','g'))\n",
    "plt.ylabel('Freq.Relativa (em %)')\n",
    "plt.xlabel('Acesso pelo Computador')\n"
   ]
  },
  {
   "cell_type": "code",
   "execution_count": 163,
   "metadata": {
    "collapsed": false
   },
   "outputs": [
    {
     "name": "stdout",
     "output_type": "stream",
     "text": [
      "Entre todos que tem internet no sudeste, quantos % acessam pelo celular\n"
     ]
    },
    {
     "data": {
      "text/html": [
       "<div>\n",
       "<table border=\"1\" class=\"dataframe\">\n",
       "  <thead>\n",
       "    <tr style=\"text-align: right;\">\n",
       "      <th></th>\n",
       "      <th>V02324</th>\n",
       "      <th>Sim</th>\n",
       "      <th>Não</th>\n",
       "    </tr>\n",
       "    <tr>\n",
       "      <th>REGIAO</th>\n",
       "      <th>INTERNET_NO_DOMICILIO</th>\n",
       "      <th></th>\n",
       "      <th></th>\n",
       "    </tr>\n",
       "  </thead>\n",
       "  <tbody>\n",
       "    <tr>\n",
       "      <th>Sudeste</th>\n",
       "      <th>Sim</th>\n",
       "      <td>47.2</td>\n",
       "      <td>52.8</td>\n",
       "    </tr>\n",
       "  </tbody>\n",
       "</table>\n",
       "</div>"
      ],
      "text/plain": [
       "V02324                          Sim   Não\n",
       "REGIAO  INTERNET_NO_DOMICILIO            \n",
       "Sudeste Sim                    47.2  52.8"
      ]
     },
     "execution_count": 163,
     "metadata": {},
     "output_type": "execute_result"
    }
   ],
   "source": [
    "print(\"Entre todos que tem internet no sudeste, quantos % acessam pelo celular\")\n",
    "sudesteCEL13=(pd.crosstab([forma_SUDESTE13.REGIAO, forma_SUDESTE13.INTERNET_NO_DOMICILIO],forma_SUDESTE13.V02324, normalize='index')*100).round(decimals=1)\n",
    "sudesteCEL13"
   ]
  },
  {
   "cell_type": "code",
   "execution_count": 164,
   "metadata": {
    "collapsed": false
   },
   "outputs": [
    {
     "data": {
      "text/plain": [
       "<matplotlib.text.Text at 0x21413292c18>"
      ]
     },
     "execution_count": 164,
     "metadata": {},
     "output_type": "execute_result"
    },
    {
     "data": {
      "image/png": "[encoded data removed]",
      "text/plain": [
       "<matplotlib.figure.Figure at 0x21412ab84e0>"
      ]
     },
     "metadata": {},
     "output_type": "display_data"
    }
   ],
   "source": [
    "plot = sudesteCEL13.plot(kind='bar',title='SUDESTE',figsize=(6, 6),color=('b','g'))\n",
    "plt.ylabel('Freq.Relativa (em %)')\n",
    "plt.xlabel('Acesso pelo Celular')"
   ]
  },
  {
   "cell_type": "code",
   "execution_count": 165,
   "metadata": {
    "collapsed": false
   },
   "outputs": [
    {
     "name": "stdout",
     "output_type": "stream",
     "text": [
      "Entre todos que tem internet no Norte, quantos % acessam pelo computador\n"
     ]
    },
    {
     "data": {
      "text/html": [
       "<div>\n",
       "<table border=\"1\" class=\"dataframe\">\n",
       "  <thead>\n",
       "    <tr style=\"text-align: right;\">\n",
       "      <th></th>\n",
       "      <th>V0232</th>\n",
       "      <th>Sim</th>\n",
       "      <th>Não</th>\n",
       "    </tr>\n",
       "    <tr>\n",
       "      <th>REGIAO</th>\n",
       "      <th>INTERNET_NO_DOMICILIO</th>\n",
       "      <th></th>\n",
       "      <th></th>\n",
       "    </tr>\n",
       "  </thead>\n",
       "  <tbody>\n",
       "    <tr>\n",
       "      <th>Norte</th>\n",
       "      <th>Sim</th>\n",
       "      <td>85.9</td>\n",
       "      <td>14.1</td>\n",
       "    </tr>\n",
       "  </tbody>\n",
       "</table>\n",
       "</div>"
      ],
      "text/plain": [
       "V0232                          Sim   Não\n",
       "REGIAO INTERNET_NO_DOMICILIO            \n",
       "Norte  Sim                    85.9  14.1"
      ]
     },
     "execution_count": 165,
     "metadata": {},
     "output_type": "execute_result"
    }
   ],
   "source": [
    "print(\"Entre todos que tem internet no Norte, quantos % acessam pelo computador\")\n",
    "nortePC13=(pd.crosstab([forma_NORTE13.REGIAO, forma_NORTE13.INTERNET_NO_DOMICILIO],forma_NORTE13.V0232, normalize='index')*100).round(decimals=1)\n",
    "nortePC13"
   ]
  },
  {
   "cell_type": "code",
   "execution_count": 166,
   "metadata": {
    "collapsed": false
   },
   "outputs": [
    {
     "data": {
      "text/plain": [
       "<matplotlib.text.Text at 0x21413b8d978>"
      ]
     },
     "execution_count": 166,
     "metadata": {},
     "output_type": "execute_result"
    },
    {
     "data": {
      "image/png": "[encoded data removed]",
      "text/plain": [
       "<matplotlib.figure.Figure at 0x2141a9a6128>"
      ]
     },
     "metadata": {},
     "output_type": "display_data"
    }
   ],
   "source": [
    "plot = nortePC13.plot(kind='bar',title='NORTE')\n",
    "plt.ylabel('Freq.Relativa (em %)')\n",
    "plt.xlabel('Acesso pelo Computador')\n"
   ]
  },
  {
   "cell_type": "code",
   "execution_count": 167,
   "metadata": {
    "collapsed": false
   },
   "outputs": [
    {
     "name": "stdout",
     "output_type": "stream",
     "text": [
      "Entre todos que tem internet no Norte, quantos % acessam pelo celular\n"
     ]
    },
    {
     "data": {
      "text/html": [
       "<div>\n",
       "<table border=\"1\" class=\"dataframe\">\n",
       "  <thead>\n",
       "    <tr style=\"text-align: right;\">\n",
       "      <th></th>\n",
       "      <th>V02324</th>\n",
       "      <th>Sim</th>\n",
       "      <th>Não</th>\n",
       "    </tr>\n",
       "    <tr>\n",
       "      <th>REGIAO</th>\n",
       "      <th>INTERNET_NO_DOMICILIO</th>\n",
       "      <th></th>\n",
       "      <th></th>\n",
       "    </tr>\n",
       "  </thead>\n",
       "  <tbody>\n",
       "    <tr>\n",
       "      <th>Norte</th>\n",
       "      <th>Sim</th>\n",
       "      <td>78.2</td>\n",
       "      <td>21.8</td>\n",
       "    </tr>\n",
       "  </tbody>\n",
       "</table>\n",
       "</div>"
      ],
      "text/plain": [
       "V02324                         Sim   Não\n",
       "REGIAO INTERNET_NO_DOMICILIO            \n",
       "Norte  Sim                    78.2  21.8"
      ]
     },
     "execution_count": 167,
     "metadata": {},
     "output_type": "execute_result"
    }
   ],
   "source": [
    "print(\"Entre todos que tem internet no Norte, quantos % acessam pelo celular\")\n",
    "norteCEL13=(pd.crosstab([forma_NORTE13.REGIAO, forma_NORTE13.INTERNET_NO_DOMICILIO],forma_NORTE13.V02324, normalize='index')*100).round(decimals=1)\n",
    "norteCEL13"
   ]
  },
  {
   "cell_type": "code",
   "execution_count": 168,
   "metadata": {
    "collapsed": false
   },
   "outputs": [
    {
     "data": {
      "text/plain": [
       "<matplotlib.text.Text at 0x2141c3066a0>"
      ]
     },
     "execution_count": 168,
     "metadata": {},
     "output_type": "execute_result"
    },
    {
     "data": {
      "image/png": "[encoded data removed]",
      "text/plain": [
       "<matplotlib.figure.Figure at 0x2141c506080>"
      ]
     },
     "metadata": {},
     "output_type": "display_data"
    }
   ],
   "source": [
    "plot = norteCEL13.plot(kind='bar',title='NORTE')\n",
    "plt.ylabel('Freq.Relativa (em %)')\n",
    "plt.xlabel('Acesso pelo Celular')"
   ]
  },
  {
   "cell_type": "markdown",
   "metadata": {},
   "source": [
    "___\n",
    "## Conclusão "
   ]
  },
  {
   "cell_type": "markdown",
   "metadata": {
    "collapsed": false
   },
   "source": [
    "   A partir dos resultados obtidos é possível inferir que a diferença entre o nível de desenvolvimento sócio-econômico entre as regiões norte e sudeste influencia no acesso a internet da população de baixa renda em ambos os anos. Podendo também notar uma evolução de grau semelhante na frequencia relativa de pessoas que têm este acesso, em relação ao todo, tambem em ambas, de 2013 para 2015. Ou seja, as duas regiões apresentaram uma evolução, porém mantendo suas diferenças.\n",
    "   Já no âmbito da forma de acesso a internet, fica claro que em ambas as regiões, o celular evoluiu em uma quantidade consideravelmente alta em relação ao computador, neste período de 2 anos. O que indica que o mesmo tende, em um futuro próximo, a dominar o acesso a internet, anteriormente dominado pelos computadores.\n",
    "   Para finalizar, este estudo indica que ainda hoje, a internet, de papel tão importante para o desenvolvimento humano, não é absoluta nas camadas mais pobres do país, fato que se agrava em regiões menos desenvolvidas, como a região norte. Conclui-se assim que medidas devem ser tomadas para que haja uma maior democratização no acesso à este bem.\n",
    "    "
   ]
  },
  {
   "cell_type": "code",
   "execution_count": null,
   "metadata": {
    "collapsed": true
   },
   "outputs": [],
   "source": []
  }
 ],
 "metadata": {
  "anaconda-cloud": {},
  "kernelspec": {
   "display_name": "Python 3",
   "language": "python",
   "name": "python3"
  },
  "language_info": {
   "codemirror_mode": {
    "name": "ipython",
    "version": 3
   },
   "file_extension": ".py",
   "mimetype": "text/x-python",
   "name": "python",
   "nbconvert_exporter": "python",
   "pygments_lexer": "ipython3",
   "version": "3.6.0"
  }
 },
 "nbformat": 4,
 "nbformat_minor": 1
}
